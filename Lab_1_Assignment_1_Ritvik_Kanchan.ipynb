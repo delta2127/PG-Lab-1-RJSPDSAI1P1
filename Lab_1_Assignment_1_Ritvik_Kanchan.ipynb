{
  "nbformat": 4,
  "nbformat_minor": 0,
  "metadata": {
    "colab": {
      "name": "Lab 1 - Assignment 1-Ritvik Kanchan.ipynb",
      "provenance": [],
      "collapsed_sections": []
    },
    "kernelspec": {
      "name": "python3",
      "display_name": "Python 3"
    }
  },
  "cells": [
    {
      "cell_type": "code",
      "metadata": {
        "id": "2w7gn12cgqVX"
      },
      "source": [
        "import numpy\n",
        "import pandas as pd\n",
        "import sqlite3 as lite"
      ],
      "execution_count": 57,
      "outputs": []
    },
    {
      "cell_type": "code",
      "metadata": {
        "colab": {
          "base_uri": "https://localhost:8080/",
          "height": 166
        },
        "id": "dQNYNakajzod",
        "outputId": "92e05c22-e950-40d5-9034-021e23d3fb91"
      },
      "source": [
        "EmpId=['E101','E102','E103','E104']\n",
        "FName=['Shweta','Manisha','Madhu','Anita']\n",
        "LName=['Subnis','Perdesi','Mali','Rai']\n",
        "Designation=['ProjectEngineer','Tester','SrSoftwareEngineer','WebDeveloper']\n",
        "BasicSalary=[40000,50000,60000,70000]\n",
        "EmpData=zip(EmpId,FName,LName,Designation,BasicSalary)\n",
        "df=pd.DataFrame(data=EmpData,columns=['EmpId','FName','LName','Designation','BasicSalary'])\n",
        "df"
      ],
      "execution_count": 58,
      "outputs": [
        {
          "output_type": "execute_result",
          "data": {
            "text/html": [
              "<div>\n",
              "<style scoped>\n",
              "    .dataframe tbody tr th:only-of-type {\n",
              "        vertical-align: middle;\n",
              "    }\n",
              "\n",
              "    .dataframe tbody tr th {\n",
              "        vertical-align: top;\n",
              "    }\n",
              "\n",
              "    .dataframe thead th {\n",
              "        text-align: right;\n",
              "    }\n",
              "</style>\n",
              "<table border=\"1\" class=\"dataframe\">\n",
              "  <thead>\n",
              "    <tr style=\"text-align: right;\">\n",
              "      <th></th>\n",
              "      <th>EmpId</th>\n",
              "      <th>FName</th>\n",
              "      <th>LName</th>\n",
              "      <th>Designation</th>\n",
              "      <th>BasicSalary</th>\n",
              "    </tr>\n",
              "  </thead>\n",
              "  <tbody>\n",
              "    <tr>\n",
              "      <th>0</th>\n",
              "      <td>E101</td>\n",
              "      <td>Shweta</td>\n",
              "      <td>Subnis</td>\n",
              "      <td>ProjectEngineer</td>\n",
              "      <td>40000</td>\n",
              "    </tr>\n",
              "    <tr>\n",
              "      <th>1</th>\n",
              "      <td>E102</td>\n",
              "      <td>Manisha</td>\n",
              "      <td>Perdesi</td>\n",
              "      <td>Tester</td>\n",
              "      <td>50000</td>\n",
              "    </tr>\n",
              "    <tr>\n",
              "      <th>2</th>\n",
              "      <td>E103</td>\n",
              "      <td>Madhu</td>\n",
              "      <td>Mali</td>\n",
              "      <td>SrSoftwareEngineer</td>\n",
              "      <td>60000</td>\n",
              "    </tr>\n",
              "    <tr>\n",
              "      <th>3</th>\n",
              "      <td>E104</td>\n",
              "      <td>Anita</td>\n",
              "      <td>Rai</td>\n",
              "      <td>WebDeveloper</td>\n",
              "      <td>70000</td>\n",
              "    </tr>\n",
              "  </tbody>\n",
              "</table>\n",
              "</div>"
            ],
            "text/plain": [
              "  EmpId    FName    LName         Designation  BasicSalary\n",
              "0  E101   Shweta   Subnis     ProjectEngineer        40000\n",
              "1  E102  Manisha  Perdesi              Tester        50000\n",
              "2  E103    Madhu     Mali  SrSoftwareEngineer        60000\n",
              "3  E104    Anita      Rai        WebDeveloper        70000"
            ]
          },
          "metadata": {
            "tags": []
          },
          "execution_count": 58
        }
      ]
    },
    {
      "cell_type": "markdown",
      "metadata": {
        "id": "p-ICCkU-mJVH"
      },
      "source": [
        "Creating the csv,excel and sql database and table for storing the above data:"
      ]
    },
    {
      "cell_type": "code",
      "metadata": {
        "id": "SJNljpQj4bZx"
      },
      "source": [
        "df.to_csv('EmpData.csv',index=False,header=False)\n"
      ],
      "execution_count": 60,
      "outputs": []
    },
    {
      "cell_type": "code",
      "metadata": {
        "colab": {
          "base_uri": "https://localhost:8080/"
        },
        "id": "SfOAp0xinSuX",
        "outputId": "cb1c1834-a78d-421c-a6ff-4d2c0d774ac3"
      },
      "source": [
        "pip install xlsxwriter"
      ],
      "execution_count": 61,
      "outputs": [
        {
          "output_type": "stream",
          "text": [
            "Requirement already satisfied: xlsxwriter in /usr/local/lib/python3.6/dist-packages (1.3.7)\n"
          ],
          "name": "stdout"
        }
      ]
    },
    {
      "cell_type": "code",
      "metadata": {
        "id": "gNsNSMaqn6py"
      },
      "source": [
        "Writer=pd.ExcelWriter('EmpData.xlsx',engine='xlsxwriter')\n",
        "df.to_excel(Writer,sheet_name='sheet1')\n",
        "Writer.save()"
      ],
      "execution_count": 62,
      "outputs": []
    },
    {
      "cell_type": "code",
      "metadata": {
        "id": "DPWNLGifomeV"
      },
      "source": [
        "db_filename=r'EmpData.db'\n",
        "con=lite.connect(db_filename)\n",
        "df.to_sql('Table1',con,schema=None,if_exists='replace',index=True,index_label=None,chunksize=None,dtype=None)\n",
        "con.close()"
      ],
      "execution_count": 63,
      "outputs": []
    },
    {
      "cell_type": "markdown",
      "metadata": {
        "id": "MO2pDktztLZ2"
      },
      "source": [
        "loading and display the data from all these sources into Google colab notebook"
      ]
    },
    {
      "cell_type": "code",
      "metadata": {
        "colab": {
          "base_uri": "https://localhost:8080/",
          "height": 166
        },
        "id": "KUxdRZnis9Py",
        "outputId": "7b7527c9-01be-4ac8-d1e3-1a354b087c0f"
      },
      "source": [
        "location=\"/content/EmpData.csv\"\n",
        "dfR=pd.read_csv(location,names=['EmpId','FName','LName','Designation','BasicSalary'])\n",
        "dfR"
      ],
      "execution_count": 64,
      "outputs": [
        {
          "output_type": "execute_result",
          "data": {
            "text/html": [
              "<div>\n",
              "<style scoped>\n",
              "    .dataframe tbody tr th:only-of-type {\n",
              "        vertical-align: middle;\n",
              "    }\n",
              "\n",
              "    .dataframe tbody tr th {\n",
              "        vertical-align: top;\n",
              "    }\n",
              "\n",
              "    .dataframe thead th {\n",
              "        text-align: right;\n",
              "    }\n",
              "</style>\n",
              "<table border=\"1\" class=\"dataframe\">\n",
              "  <thead>\n",
              "    <tr style=\"text-align: right;\">\n",
              "      <th></th>\n",
              "      <th>EmpId</th>\n",
              "      <th>FName</th>\n",
              "      <th>LName</th>\n",
              "      <th>Designation</th>\n",
              "      <th>BasicSalary</th>\n",
              "    </tr>\n",
              "  </thead>\n",
              "  <tbody>\n",
              "    <tr>\n",
              "      <th>0</th>\n",
              "      <td>E101</td>\n",
              "      <td>Shweta</td>\n",
              "      <td>Subnis</td>\n",
              "      <td>ProjectEngineer</td>\n",
              "      <td>40000</td>\n",
              "    </tr>\n",
              "    <tr>\n",
              "      <th>1</th>\n",
              "      <td>E102</td>\n",
              "      <td>Manisha</td>\n",
              "      <td>Perdesi</td>\n",
              "      <td>Tester</td>\n",
              "      <td>50000</td>\n",
              "    </tr>\n",
              "    <tr>\n",
              "      <th>2</th>\n",
              "      <td>E103</td>\n",
              "      <td>Madhu</td>\n",
              "      <td>Mali</td>\n",
              "      <td>SrSoftwareEngineer</td>\n",
              "      <td>60000</td>\n",
              "    </tr>\n",
              "    <tr>\n",
              "      <th>3</th>\n",
              "      <td>E104</td>\n",
              "      <td>Anita</td>\n",
              "      <td>Rai</td>\n",
              "      <td>WebDeveloper</td>\n",
              "      <td>70000</td>\n",
              "    </tr>\n",
              "  </tbody>\n",
              "</table>\n",
              "</div>"
            ],
            "text/plain": [
              "  EmpId    FName    LName         Designation  BasicSalary\n",
              "0  E101   Shweta   Subnis     ProjectEngineer        40000\n",
              "1  E102  Manisha  Perdesi              Tester        50000\n",
              "2  E103    Madhu     Mali  SrSoftwareEngineer        60000\n",
              "3  E104    Anita      Rai        WebDeveloper        70000"
            ]
          },
          "metadata": {
            "tags": []
          },
          "execution_count": 64
        }
      ]
    },
    {
      "cell_type": "code",
      "metadata": {
        "colab": {
          "base_uri": "https://localhost:8080/",
          "height": 166
        },
        "id": "RjNLl7V6t7zY",
        "outputId": "7158fa9f-1dd2-4459-bfe5-b1d50bee33d2"
      },
      "source": [
        "location=\"/content/EmpData.xlsx\"\n",
        "dfR=pd.read_excel(location)\n",
        "dfR"
      ],
      "execution_count": 65,
      "outputs": [
        {
          "output_type": "execute_result",
          "data": {
            "text/html": [
              "<div>\n",
              "<style scoped>\n",
              "    .dataframe tbody tr th:only-of-type {\n",
              "        vertical-align: middle;\n",
              "    }\n",
              "\n",
              "    .dataframe tbody tr th {\n",
              "        vertical-align: top;\n",
              "    }\n",
              "\n",
              "    .dataframe thead th {\n",
              "        text-align: right;\n",
              "    }\n",
              "</style>\n",
              "<table border=\"1\" class=\"dataframe\">\n",
              "  <thead>\n",
              "    <tr style=\"text-align: right;\">\n",
              "      <th></th>\n",
              "      <th>Unnamed: 0</th>\n",
              "      <th>EmpId</th>\n",
              "      <th>FName</th>\n",
              "      <th>LName</th>\n",
              "      <th>Designation</th>\n",
              "      <th>BasicSalary</th>\n",
              "    </tr>\n",
              "  </thead>\n",
              "  <tbody>\n",
              "    <tr>\n",
              "      <th>0</th>\n",
              "      <td>0</td>\n",
              "      <td>E101</td>\n",
              "      <td>Shweta</td>\n",
              "      <td>Subnis</td>\n",
              "      <td>ProjectEngineer</td>\n",
              "      <td>40000</td>\n",
              "    </tr>\n",
              "    <tr>\n",
              "      <th>1</th>\n",
              "      <td>1</td>\n",
              "      <td>E102</td>\n",
              "      <td>Manisha</td>\n",
              "      <td>Perdesi</td>\n",
              "      <td>Tester</td>\n",
              "      <td>50000</td>\n",
              "    </tr>\n",
              "    <tr>\n",
              "      <th>2</th>\n",
              "      <td>2</td>\n",
              "      <td>E103</td>\n",
              "      <td>Madhu</td>\n",
              "      <td>Mali</td>\n",
              "      <td>SrSoftwareEngineer</td>\n",
              "      <td>60000</td>\n",
              "    </tr>\n",
              "    <tr>\n",
              "      <th>3</th>\n",
              "      <td>3</td>\n",
              "      <td>E104</td>\n",
              "      <td>Anita</td>\n",
              "      <td>Rai</td>\n",
              "      <td>WebDeveloper</td>\n",
              "      <td>70000</td>\n",
              "    </tr>\n",
              "  </tbody>\n",
              "</table>\n",
              "</div>"
            ],
            "text/plain": [
              "   Unnamed: 0 EmpId    FName    LName         Designation  BasicSalary\n",
              "0           0  E101   Shweta   Subnis     ProjectEngineer        40000\n",
              "1           1  E102  Manisha  Perdesi              Tester        50000\n",
              "2           2  E103    Madhu     Mali  SrSoftwareEngineer        60000\n",
              "3           3  E104    Anita      Rai        WebDeveloper        70000"
            ]
          },
          "metadata": {
            "tags": []
          },
          "execution_count": 65
        }
      ]
    },
    {
      "cell_type": "code",
      "metadata": {
        "colab": {
          "base_uri": "https://localhost:8080/",
          "height": 166
        },
        "id": "HlDKUC31mGiR",
        "outputId": "c71c4973-e193-4046-c2c0-975204c828ec"
      },
      "source": [
        "from sqlalchemy import create_engine\n",
        "\n",
        "db_file=r'/content/EmpData.db'\n",
        "engine=create_engine(r\"sqlite:///{}\".format(db_file))\n",
        "sql=\"Select * from Table1;\"\n",
        "sales_data_df=pd.read_sql(sql,engine)\n",
        "sales_data_df"
      ],
      "execution_count": 66,
      "outputs": [
        {
          "output_type": "execute_result",
          "data": {
            "text/html": [
              "<div>\n",
              "<style scoped>\n",
              "    .dataframe tbody tr th:only-of-type {\n",
              "        vertical-align: middle;\n",
              "    }\n",
              "\n",
              "    .dataframe tbody tr th {\n",
              "        vertical-align: top;\n",
              "    }\n",
              "\n",
              "    .dataframe thead th {\n",
              "        text-align: right;\n",
              "    }\n",
              "</style>\n",
              "<table border=\"1\" class=\"dataframe\">\n",
              "  <thead>\n",
              "    <tr style=\"text-align: right;\">\n",
              "      <th></th>\n",
              "      <th>index</th>\n",
              "      <th>EmpId</th>\n",
              "      <th>FName</th>\n",
              "      <th>LName</th>\n",
              "      <th>Designation</th>\n",
              "      <th>BasicSalary</th>\n",
              "    </tr>\n",
              "  </thead>\n",
              "  <tbody>\n",
              "    <tr>\n",
              "      <th>0</th>\n",
              "      <td>0</td>\n",
              "      <td>E101</td>\n",
              "      <td>Shweta</td>\n",
              "      <td>Subnis</td>\n",
              "      <td>ProjectEngineer</td>\n",
              "      <td>40000</td>\n",
              "    </tr>\n",
              "    <tr>\n",
              "      <th>1</th>\n",
              "      <td>1</td>\n",
              "      <td>E102</td>\n",
              "      <td>Manisha</td>\n",
              "      <td>Perdesi</td>\n",
              "      <td>Tester</td>\n",
              "      <td>50000</td>\n",
              "    </tr>\n",
              "    <tr>\n",
              "      <th>2</th>\n",
              "      <td>2</td>\n",
              "      <td>E103</td>\n",
              "      <td>Madhu</td>\n",
              "      <td>Mali</td>\n",
              "      <td>SrSoftwareEngineer</td>\n",
              "      <td>60000</td>\n",
              "    </tr>\n",
              "    <tr>\n",
              "      <th>3</th>\n",
              "      <td>3</td>\n",
              "      <td>E104</td>\n",
              "      <td>Anita</td>\n",
              "      <td>Rai</td>\n",
              "      <td>WebDeveloper</td>\n",
              "      <td>70000</td>\n",
              "    </tr>\n",
              "  </tbody>\n",
              "</table>\n",
              "</div>"
            ],
            "text/plain": [
              "   index EmpId    FName    LName         Designation  BasicSalary\n",
              "0      0  E101   Shweta   Subnis     ProjectEngineer        40000\n",
              "1      1  E102  Manisha  Perdesi              Tester        50000\n",
              "2      2  E103    Madhu     Mali  SrSoftwareEngineer        60000\n",
              "3      3  E104    Anita      Rai        WebDeveloper        70000"
            ]
          },
          "metadata": {
            "tags": []
          },
          "execution_count": 66
        }
      ]
    }
  ]
}