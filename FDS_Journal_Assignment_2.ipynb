{
  "nbformat": 4,
  "nbformat_minor": 0,
  "metadata": {
    "colab": {
      "name": "FDS_Journal_Assignment_2.ipynb",
      "provenance": [],
      "collapsed_sections": []
    },
    "kernelspec": {
      "name": "python3",
      "display_name": "Python 3"
    }
  },
  "cells": [
    {
      "cell_type": "markdown",
      "metadata": {
        "id": "ChIN7NQ9pT_7"
      },
      "source": [
        "**Importing packages**"
      ]
    },
    {
      "cell_type": "markdown",
      "metadata": {
        "id": "9yvAVj7ebUkP"
      },
      "source": [
        "Importing packages that are needed in python to perform  statistical operations \r\n",
        "<br>\r\n",
        "<br>\r\n",
        "* numpy- \r\n",
        "It is a library for the Python programming language, adding support for large, multi-dimensional arrays and matrices, along with a large collection of high-level mathematical functions to operate on these arrays.\r\n",
        "<br>\r\n",
        "\r\n",
        "* pandas-\r\n",
        "pandas is a software library written for the Python programming language for data manipulation and analysis. In particular, it offers data structures and operations for manipulating numerical tables and time series.\r\n",
        "<br>\r\n",
        "\r\n",
        "*   seaborn- Seaborn is a Python data visualization library based on matplotlib. It provides a high-level interface for drawing attractive and informative statistical graphics.\r\n",
        "<br>\r\n",
        "\r\n",
        "*   Scipy.stats- It is a module contains a large number of probability distributions as well as a growing library of statistical functions.\r\n",
        "\r\n",
        "\r\n",
        "\r\n",
        "\r\n",
        "\r\n",
        "\r\n",
        "\r\n"
      ]
    },
    {
      "cell_type": "code",
      "metadata": {
        "id": "A2PAxiOppc4t"
      },
      "source": [
        "import numpy as np\r\n",
        "import pandas as pd\r\n",
        "import seaborn as sns\r\n",
        "import scipy.stats as stats"
      ],
      "execution_count": null,
      "outputs": []
    },
    {
      "cell_type": "markdown",
      "metadata": {
        "id": "QFSBembVMbw0"
      },
      "source": [
        "\r\n",
        "\r\n",
        "---\r\n",
        "\r\n",
        "---\r\n",
        "\r\n",
        "---\r\n",
        "\r\n",
        "\r\n",
        "\r\n",
        "\r\n",
        "\r\n",
        "\r\n",
        "\r\n"
      ]
    },
    {
      "cell_type": "markdown",
      "metadata": {
        "id": "JpsIPciOqHFf"
      },
      "source": [
        "**Importing Dataset**"
      ]
    },
    {
      "cell_type": "markdown",
      "metadata": {
        "id": "Wo-bGU7uMxr_"
      },
      "source": [
        "Mounting Google Drive locally and reading LaptopDS.csv to a dataframe then displaying its basic info using df.info()\r\n",
        "<br>\r\n",
        "<br>\r\n",
        "LaptopDS.csv -\r\n",
        "\r\n",
        "It is a dataset which contains 205 entries of latpops based on their model name and specification.This dataset has combined information of diffrent laptops so that it can be used in analysis by or can be used by customers to identify which laptops meets their requirements.\r\n",
        "\r\n",
        "It contains 8 columns as brand(brand of the laptop), laptop_name(Model name of the laptop),display_size(Screen display size), processor_type(processor model name), graphics_card(graphic card model name), disk_space(size of disk and its type), discount_price(discounted price), price(orignal price) and ratings_5max(rating from 0 to 5).    \r\n"
      ]
    },
    {
      "cell_type": "code",
      "metadata": {
        "colab": {
          "base_uri": "https://localhost:8080/"
        },
        "id": "jymqC3fzqQAv",
        "outputId": "014d1f58-c1ba-49fc-e2bf-05f89a2de820"
      },
      "source": [
        "%cd\r\n",
        "from google.colab import drive\r\n",
        "drive.mount('/content/gdrive')"
      ],
      "execution_count": null,
      "outputs": [
        {
          "output_type": "stream",
          "text": [
            "/root\n",
            "Mounted at /content/gdrive\n"
          ],
          "name": "stdout"
        }
      ]
    },
    {
      "cell_type": "code",
      "metadata": {
        "colab": {
          "base_uri": "https://localhost:8080/"
        },
        "id": "MOEEA4XTrAcj",
        "outputId": "733cd56a-a74a-4047-d47c-655c796e2528"
      },
      "source": [
        "df=pd.read_csv('/content/gdrive/MyDrive/DS/LaptopsDS.csv')\r\n",
        "print(\"Dataset On Laptop specedication based on brands : - \\n\",df)"
      ],
      "execution_count": null,
      "outputs": [
        {
          "output_type": "stream",
          "text": [
            "Dataset On Laptop specedication based on brands : - \n",
            "       brand                       laptop_name  ...    price ratings_5max\n",
            "0        HP              Notebook 14-df0008nx  ...   1259.0        0 / 5\n",
            "1    Lenovo                IdeaPad 330S-14IKB  ...   2099.0      3.3 / 5\n",
            "2    Huawei                  MateBook D Volta  ...   3799.0        0 / 5\n",
            "3      Dell                  Inspiron 15 3567  ...   1849.0        0 / 5\n",
            "4      Asus                VivoBook 15 X510UR  ...   3149.0        0 / 5\n",
            "..      ...                               ...  ...      ...          ...\n",
            "200  Lenovo               IdeaPad 320-15IKBRN  ...   2099.0      3.8 / 5\n",
            "201  Huawei                        MateBook D  ...   3299.0      4.0 / 5\n",
            "202   Apple  MacBook Pro (Retina + Touch Bar)  ...  10199.0        0 / 5\n",
            "203   Apple  MacBook Pro (Retina + Touch Bar)  ...  11899.0      4.4 / 5\n",
            "204    Dell                  Inspiron 15 3576  ...   2299.0        0 / 5\n",
            "\n",
            "[205 rows x 9 columns]\n"
          ],
          "name": "stdout"
        }
      ]
    },
    {
      "cell_type": "code",
      "metadata": {
        "colab": {
          "base_uri": "https://localhost:8080/"
        },
        "id": "m30cG9SpwOeC",
        "outputId": "282cb312-6d89-4cea-fee0-972306f6556f"
      },
      "source": [
        "df.info()"
      ],
      "execution_count": null,
      "outputs": [
        {
          "output_type": "stream",
          "text": [
            "<class 'pandas.core.frame.DataFrame'>\n",
            "RangeIndex: 205 entries, 0 to 204\n",
            "Data columns (total 9 columns):\n",
            " #   Column          Non-Null Count  Dtype  \n",
            "---  ------          --------------  -----  \n",
            " 0   brand           205 non-null    object \n",
            " 1   laptop_name     204 non-null    object \n",
            " 2   display_size    205 non-null    float64\n",
            " 3   processor_type  205 non-null    object \n",
            " 4   graphics_card   205 non-null    object \n",
            " 5   disk_space      205 non-null    object \n",
            " 6   discount_price  205 non-null    float64\n",
            " 7   price           205 non-null    float64\n",
            " 8   ratings_5max    205 non-null    object \n",
            "dtypes: float64(3), object(6)\n",
            "memory usage: 14.5+ KB\n"
          ],
          "name": "stdout"
        }
      ]
    },
    {
      "cell_type": "markdown",
      "metadata": {
        "id": "7wTrHjtkMh2P"
      },
      "source": [
        "\r\n",
        "\r\n",
        "---\r\n",
        "\r\n",
        "---\r\n",
        "\r\n",
        "---\r\n",
        "\r\n",
        "\r\n",
        "\r\n",
        "\r\n",
        "\r\n"
      ]
    },
    {
      "cell_type": "markdown",
      "metadata": {
        "id": "zjcrHyRH1cE3"
      },
      "source": [
        " **Measures of Central Tendency**\r\n",
        "\r\n"
      ]
    },
    {
      "cell_type": "markdown",
      "metadata": {
        "id": "V2uobqAiftXc"
      },
      "source": [
        "central tendency is a central or typical value for a probability distribution. It may also be called a center or location of the distribution.\r\n",
        "<br>\r\n",
        "<br>\r\n",
        "\r\n",
        "\r\n",
        "Use of central tendency statistical model- \r\n",
        "\r\n",
        "\r\n",
        "*   A statistical model is a mathematical model that embodies a set of statistical assumptions concerning the generation of sample data (and similar data from a larger population).\r\n",
        "*   The central tendency is dependent on the analysis of concentration of the values of observations in an distribution.\r\n",
        "*   In statistical sense, this statement is said to be the concentration of n items in Xi variable.\r\n",
        "*   The study of central  are essential dimensions in understanding the distributional characteristics of a series/variable. \r\n",
        "*   For example, the two sets of daily rainfall for the months of April and May 2004 in Cherrapunji have same magnitude of average rainfall (a most familiar measure of central tendency) called mean while the ranges of distribution (a difference of maximum and minimum value of data –series) are different as it vary from 0 to 492.2 mm in the month of April and from 0 to 327.6mm in the month of May. \r\n",
        "*   It shows different degree of dispersion despite the same value of their mean. So the nature of these two distributions is different from each other showing differences in distributions.\r\n",
        "\r\n",
        "\r\n",
        "The 3 most common measures of central tendency are the mean, median and mode.\r\n",
        "\r\n",
        "\r\n",
        "\r\n",
        "\r\n",
        "\r\n",
        "\r\n"
      ]
    },
    {
      "cell_type": "markdown",
      "metadata": {
        "id": "5EP2lAcG3ftE"
      },
      "source": [
        "**Mean**\r\n",
        "\r\n",
        "\r\n"
      ]
    },
    {
      "cell_type": "markdown",
      "metadata": {
        "id": "_WYvKjWPWMm9"
      },
      "source": [
        "\r\n",
        "*   It is sum of all values divided by number of values( average )\r\n",
        "*   df.mean() Returns the mean of the values over the requested axis.\r\n",
        "*   Using it on the data set LaptopDS.csv returned mean of all the column of numeric type in the dataset.\r\n",
        "*   The data that are returned are showing the display_size, price and the discount price that the most of the laptops have. \r\n",
        "\r\n",
        "\r\n",
        "\r\n",
        "\r\n",
        "\r\n"
      ]
    },
    {
      "cell_type": "code",
      "metadata": {
        "colab": {
          "base_uri": "https://localhost:8080/"
        },
        "id": "YySwHnL_cbZn",
        "outputId": "f55d82db-5c51-4a36-c831-993915c30558"
      },
      "source": [
        "print('Mean of numeric columns-\\n',df.mean())"
      ],
      "execution_count": null,
      "outputs": [
        {
          "output_type": "stream",
          "text": [
            "Mean of column display_size =  14.579804878048767\n",
            "Mean of column discount_price =  3812.550975609756\n",
            "Mean of column price =  4040.3558536585365\n"
          ],
          "name": "stdout"
        }
      ]
    },
    {
      "cell_type": "markdown",
      "metadata": {
        "id": "OCvG5lgCEzqU"
      },
      "source": [
        "**Trimmed Mean**"
      ]
    },
    {
      "cell_type": "markdown",
      "metadata": {
        "id": "ktcbsUioZcI_"
      },
      "source": [
        "\r\n",
        "\r\n",
        "*   It is similar to mean except here we exclude the smallest and largest values in our data set.\r\n",
        "*   Calculated by the average of all values after dropping a fixed number of extreme values. \r\n",
        "*   The use of a trimmed mean helps eliminate the influence of outliers or data points on the tails that may unfairly affect the traditional mean. \r\n",
        "*   Here we are calculating the 10 % trimmed mean of the columns display_size, price and discount.\r\n",
        "\r\n",
        "\r\n"
      ]
    },
    {
      "cell_type": "code",
      "metadata": {
        "colab": {
          "base_uri": "https://localhost:8080/"
        },
        "id": "wgLbzAAPEy1P",
        "outputId": "dda11e36-174d-4be5-e46d-fffaa41b496f"
      },
      "source": [
        "print('Trimmed Mean of the column display_size = ',stats.trim_mean(df['display_size'],0.1))\r\n",
        "print('Trimmed Mean of the column price = ',stats.trim_mean(df['price'],0.1))\r\n",
        "print('Trimmed Mean of the column discount_price = ',stats.trim_mean(df['discount_price'],0.1))"
      ],
      "execution_count": null,
      "outputs": [
        {
          "output_type": "stream",
          "text": [
            "Trimmed Mean of the column display_size =  14.584606060606058\n",
            "Trimmed Mean of the column price =  3756.7454545454543\n",
            "Trimmed Mean of the column discount_price =  3508.018181818182\n"
          ],
          "name": "stdout"
        }
      ]
    },
    {
      "cell_type": "markdown",
      "metadata": {
        "id": "POkZQ7qpFWPc"
      },
      "source": [
        "**Weighted Mean**"
      ]
    },
    {
      "cell_type": "markdown",
      "metadata": {
        "id": "YtS2SN5-cHkQ"
      },
      "source": [
        "* It is similar to mean except weights are used to balance the observation\r\n",
        "* calculated by the sum of all values times a weight divided by the sum of the weights.\r\n",
        "*   It is used when we consider some data values to be more important than other values and so we want them to contribute more to the final \"average\". \r\n",
        "* np.average() is used to Compute the weighted average along the specified axis.\r\n",
        "*    Here we are calculating the Weightedmean where weights are shifted by 10 of the columns display_size, price and discount.\r\n",
        "\r\n",
        "\r\n"
      ]
    },
    {
      "cell_type": "code",
      "metadata": {
        "colab": {
          "base_uri": "https://localhost:8080/"
        },
        "id": "g-wnVeYMFdj0",
        "outputId": "5e35fc9c-7eb6-416f-d414-f998f1b8cfa4"
      },
      "source": [
        "weights=[i for i in range(10,215)]\r\n",
        "print('Weighted Mean of the column display_size = ',np.average(df['display_size'],weights=weights))\r\n",
        "print('Weighted Mean of the column price = ',np.average(df['price'],weights=weights))\r\n",
        "print('Weighted Mean of the column discount_price = ',np.average(df['discount_price'],weights=weights))"
      ],
      "execution_count": null,
      "outputs": [
        {
          "output_type": "stream",
          "text": [
            "Weighted Mean of the column display_size =  14.676464285714285\n",
            "Weighted Mean of the column price =  4115.339146341464\n",
            "Weighted Mean of the column discount_price =  3975.319111498258\n"
          ],
          "name": "stdout"
        }
      ]
    },
    {
      "cell_type": "markdown",
      "metadata": {
        "id": "X31qaW94Dj9R"
      },
      "source": [
        "**Median**"
      ]
    },
    {
      "cell_type": "markdown",
      "metadata": {
        "id": "P7a_CEt4jK7C"
      },
      "source": [
        "\r\n",
        "*   It is the value such that one-half of the data lies above and below. \r\n",
        "*   df.median() Return the median of the values over the requested axis.\r\n",
        "*   Using it on the data set LaptopDS.csv returned median of all the column of numeric type in the dataset \r\n",
        "*   The data that are returned are showing  middle values of column the display_size, price and the discount price. \r\n",
        "\r\n"
      ]
    },
    {
      "cell_type": "code",
      "metadata": {
        "colab": {
          "base_uri": "https://localhost:8080/"
        },
        "id": "DhaaYqHd3jfe",
        "outputId": "0de7adc9-3b4d-4b56-b629-e0ea888bec30"
      },
      "source": [
        "print('Median of numeric columns-\\n',df.median())"
      ],
      "execution_count": null,
      "outputs": [
        {
          "output_type": "stream",
          "text": [
            "Median of column display_size =  14.0\n",
            "Median of column discount_price =  3149.0\n",
            "Median of column price =  3299.0\n"
          ],
          "name": "stdout"
        }
      ]
    },
    {
      "cell_type": "markdown",
      "metadata": {
        "id": "dXiurFC_DpGH"
      },
      "source": [
        "**Mode**"
      ]
    },
    {
      "cell_type": "markdown",
      "metadata": {
        "id": "sBqBRi46jLnB"
      },
      "source": [
        "*   It is the value that frequenty occurs.\r\n",
        "*   df.mode() Returns The mode of a set of values is the value that appears most often. It can have multiple values.\r\n",
        "*   Using it on the data set LaptopDS.csv returned mode of all categorical columns in the dataset.\r\n",
        "\r\n"
      ]
    },
    {
      "cell_type": "code",
      "metadata": {
        "colab": {
          "base_uri": "https://localhost:8080/"
        },
        "id": "jbg9Sd3sexv6",
        "outputId": "e1761faf-354f-46f5-f755-52e214ec5f9f"
      },
      "source": [
        "print('Mode of columns-\\n',df.mode())"
      ],
      "execution_count": null,
      "outputs": [
        {
          "output_type": "stream",
          "text": [
            "Mode of columns-\n",
            "   brand                       laptop_name  ...   price ratings_5max\n",
            "0    HP  MacBook Pro (Retina + Touch Bar)  ...  3149.0        0 / 5\n",
            "1   NaN                               NaN  ...     NaN          NaN\n",
            "\n",
            "[2 rows x 9 columns]\n"
          ],
          "name": "stdout"
        }
      ]
    },
    {
      "cell_type": "markdown",
      "metadata": {
        "id": "PF0IsvWBMoSB"
      },
      "source": [
        "\r\n",
        "\r\n",
        "---\r\n",
        "\r\n",
        "---\r\n",
        "\r\n",
        "---\r\n",
        "\r\n",
        "\r\n",
        "\r\n",
        "\r\n",
        "\r\n"
      ]
    },
    {
      "cell_type": "markdown",
      "metadata": {
        "id": "sJKIW05Do7G8"
      },
      "source": [
        "**Measures of Variability**"
      ]
    },
    {
      "cell_type": "markdown",
      "metadata": {
        "id": "KMGNrRyyqODv"
      },
      "source": [
        "*  A measure of variability is a summary statistic that represents the amount of dispersion in a dataset i.e How spread out are the values.\r\n",
        "* Analysts frequently use the mean to summarize the center of a population or a process. \r\n",
        "* When a distribution has lower variability, the values in a dataset are more consistent. \r\n",
        "*However, when the variability is higher, the data points are more dissimilar and extreme values become more likely. \r\n",
        "* Consequently, understanding variability helps us grasp the likelihood of unusual events.\r\n",
        "* following are the most common Measure of variablity \r\n"
      ]
    },
    {
      "cell_type": "markdown",
      "metadata": {
        "id": "9MBqSx2gEHBS"
      },
      "source": [
        "**Standard Deviation**"
      ]
    },
    {
      "cell_type": "markdown",
      "metadata": {
        "id": "rfyXhD1btNy2"
      },
      "source": [
        "*   A standard deviation is a statistic that measures the dispersion of a dataset relative to its mean and is calculated as the square root of the variance.\r\n",
        "*   Standard deviation is an especially useful tool in investing and trading strategies as it helps measure market and security volatility and predict performance trends. \r\n",
        "* As it relates to investing, for example, an index fund is likely to have a low standard deviation versus its benchmark index, as the fund's goal is to replicate the index.\r\n",
        "* df.std() Return sample standard deviation over requested axis.\r\n"
      ]
    },
    {
      "cell_type": "code",
      "metadata": {
        "id": "AcHB0_NnoLo9",
        "colab": {
          "base_uri": "https://localhost:8080/"
        },
        "outputId": "28f93d38-08d2-4ccd-dc35-e8356efca763"
      },
      "source": [
        "print('standard deviation of numeric columns - \\n',df.std())"
      ],
      "execution_count": null,
      "outputs": [
        {
          "output_type": "stream",
          "text": [
            "standard deviation of numeric columns - \n",
            " display_size         1.109458\n",
            "discount_price    2308.702005\n",
            "price             2327.147396\n",
            "dtype: float64\n"
          ],
          "name": "stdout"
        }
      ]
    },
    {
      "cell_type": "markdown",
      "metadata": {
        "id": "TOxFx9UOFPZW"
      },
      "source": [
        "**Variance**"
      ]
    },
    {
      "cell_type": "markdown",
      "metadata": {
        "id": "NdLEi3_SxGAJ"
      },
      "source": [
        "*  The term variance refers to a statistical measurement of the spread between numbers in a data set. \r\n",
        "*  More specifically, variance measures how far each number in the set is from the mean and thus from every other number in the set.\r\n",
        "*  Statisticians use variance to see how individual numbers relate to each other within a data set, rather than using broader mathematical techniques such as arranging numbers into quartiles. \r\n",
        "* The advantage of variance is that it treats all deviations from the mean the same regardless of their direction. \r\n",
        "* The squared deviations cannot sum to zero and give the appearance of no variability at all in the data. \r\n",
        "* One drawback to variance, though, is that it gives added weight to outliers. These are the numbers that are far from the mean.  \r\n",
        "* df.var() Return unbiased variance over requested axis."
      ]
    },
    {
      "cell_type": "code",
      "metadata": {
        "colab": {
          "base_uri": "https://localhost:8080/"
        },
        "id": "FSPeIPqNFZp3",
        "outputId": "da5a5a97-e8ec-480f-83a2-2f9f384fe652"
      },
      "source": [
        "print('variance of numeric columns - \\n',df.var())"
      ],
      "execution_count": null,
      "outputs": [
        {
          "output_type": "stream",
          "text": [
            "variance of numeric columns - \n",
            " display_size      1.230898e+00\n",
            "discount_price    5.330105e+06\n",
            "price             5.415615e+06\n",
            "dtype: float64\n"
          ],
          "name": "stdout"
        }
      ]
    },
    {
      "cell_type": "markdown",
      "metadata": {
        "id": "F0rNTBLEGQdw"
      },
      "source": [
        "**Min and Max Variables**\r\n"
      ]
    },
    {
      "cell_type": "markdown",
      "metadata": {
        "id": "EoOJdbNsFmvi"
      },
      "source": [
        "* df.min() Returns the minimum of the values over the requested axis.\r\n",
        "* df.max() Returns the maximum of the values over the requested axis.\r\n",
        "* Using it in LaptopDS.csv returns minimum and maximum values of all columns."
      ]
    },
    {
      "cell_type": "code",
      "metadata": {
        "colab": {
          "base_uri": "https://localhost:8080/"
        },
        "id": "EB-270zcFmru",
        "outputId": "42d255d6-01db-4493-a8f8-d30e77679e2d"
      },
      "source": [
        "print('\\nMin variables of all columns -\\n',df.min())\r\n",
        "print('\\nMax variables of all columns -\\n ',df.max())"
      ],
      "execution_count": null,
      "outputs": [
        {
          "output_type": "stream",
          "text": [
            "\n",
            "Min variables of numeric columns -\n",
            " brand                               Acer\n",
            "display_size                          12\n",
            "processor_type               AMD A9-9425\n",
            "graphics_card      AMD Radeon 520 (2 GB)\n",
            "disk_space                      1 TB HDD\n",
            "discount_price                       899\n",
            "price                                999\n",
            "ratings_5max                       0 / 5\n",
            "dtype: object\n",
            "\n",
            "Max variables of numeric columns -\n",
            "  brand                                 Microsoft\n",
            "display_size                               18.4\n",
            "processor_type                    Intel Core i9\n",
            "graphics_card      Radeon Pro 560X GDDR5 (4 GB)\n",
            "disk_space          8 GB (Cache Flash)/1 TB HDD\n",
            "discount_price                            12499\n",
            "price                                     12499\n",
            "ratings_5max                            5.0 / 5\n",
            "dtype: object\n"
          ],
          "name": "stdout"
        }
      ]
    },
    {
      "cell_type": "markdown",
      "metadata": {
        "id": "nFbR3_zUIJO_"
      },
      "source": [
        "**Skewness**"
      ]
    },
    {
      "cell_type": "markdown",
      "metadata": {
        "id": "okuEPhUoNWdy"
      },
      "source": [
        "* In probability theory and statistics, skewness is a measure of the asymmetry of the probability distribution of a real-valued random variable about its mean. \r\n",
        "* The skewness value can be positive, zero, negative, or undefined.\r\n",
        "* For a unimodal distribution, negative skew commonly indicates that the tail is on the left side of the distribution, and positive skew indicates that the tail is on the right. \r\n",
        "* df.skew() return unbiased skew over requested axis."
      ]
    },
    {
      "cell_type": "code",
      "metadata": {
        "colab": {
          "base_uri": "https://localhost:8080/"
        },
        "id": "vbV95AtjIPsJ",
        "outputId": "deee779d-197c-412e-8624-8766a19b35cd"
      },
      "source": [
        "print('Skewness of numeric columns - \\n',df.skew())"
      ],
      "execution_count": null,
      "outputs": [
        {
          "output_type": "stream",
          "text": [
            "Skewness of numeric columns - \n",
            " display_size      0.178277\n",
            "discount_price    1.239832\n",
            "price             1.163004\n",
            "dtype: float64\n"
          ],
          "name": "stdout"
        }
      ]
    },
    {
      "cell_type": "markdown",
      "metadata": {
        "id": "8z8wMGNPNAsS"
      },
      "source": [
        "**Kurtosis**"
      ]
    },
    {
      "cell_type": "markdown",
      "metadata": {
        "id": "uVOwg2-sODDA"
      },
      "source": [
        "* In probability theory and statistics, kurtosis is a measure of the \"tailedness\" of the probability distribution of a real-valued random variable.\r\n",
        "* Like skewness, kurtosis describes the shape of a probability distribution and there are different ways of quantifying it for a theoretical distribution and corresponding ways of estimating it from a sample from a population.\r\n",
        "* df.kurtosis() Returns unbiased kurtosis over requested axis.\r\n",
        "* df.kurtosis() computes the Fisher's Kurtosis which is obtained by subtracting the Pearson's Kurtosis by three. With Fisher's Kurtosis, definition a normal distribution has a kurtosis of 0."
      ]
    },
    {
      "cell_type": "code",
      "metadata": {
        "colab": {
          "base_uri": "https://localhost:8080/"
        },
        "id": "JaD_LU1VLBba",
        "outputId": "8aee4bb2-af85-48fd-a4e4-7ae063589e97"
      },
      "source": [
        "print('kurtosis of numeric columns - \\n',df.kurtosis())"
      ],
      "execution_count": null,
      "outputs": [
        {
          "output_type": "stream",
          "text": [
            "kurtosis of numeric columns - \n",
            " display_size     -0.650084\n",
            "discount_price    1.377946\n",
            "price             1.279941\n",
            "dtype: float64\n"
          ],
          "name": "stdout"
        }
      ]
    },
    {
      "cell_type": "markdown",
      "metadata": {
        "id": "foMRmYPrNW4Y"
      },
      "source": [
        "**Range**"
      ]
    },
    {
      "cell_type": "markdown",
      "metadata": {
        "id": "chbWNdsNPwW2"
      },
      "source": [
        "*    Range is the difference between the lowest and highest values.\r\n",
        "*   It is calculated by max-min value of a column.\r\n",
        "* It is a good way to get a very basic understanding of how spread out numbers in the data set really are because it is easy to calculate as it only requires a basic arithmetic operation, but there are also a few other applications of the range of a data set in statistics.\r\n",
        "\r\n"
      ]
    },
    {
      "cell_type": "code",
      "metadata": {
        "colab": {
          "base_uri": "https://localhost:8080/"
        },
        "id": "-c4Y3PVMMywQ",
        "outputId": "de82d350-9dd3-44c4-ee53-6adc4d9eef79"
      },
      "source": [
        "print('Range of the column display_size = ',df['display_size'].max()-df['display_size'].min())\r\n",
        "print('Range of the column price = ',df['price'].max()-df['price'].min())\r\n",
        "print('Range of the column discount_price = ',df['discount_price'].max()-df['discount_price'].min())"
      ],
      "execution_count": null,
      "outputs": [
        {
          "output_type": "stream",
          "text": [
            "Range of the column display_size =  6.399999999999999\n",
            "Range of the column price =  11500.0\n",
            "Range of the column discount_price =  11600.0\n"
          ],
          "name": "stdout"
        }
      ]
    },
    {
      "cell_type": "markdown",
      "metadata": {
        "id": "5-lZdAyWRkIU"
      },
      "source": [
        "**Percentile**"
      ]
    },
    {
      "cell_type": "markdown",
      "metadata": {
        "id": "BsjNlq-rRy_d"
      },
      "source": [
        "* percentile is a term used in statistics to express how a score compares to other scores in the same set. \r\n",
        "* While there is technically no standard definition of percentile, it's typically communicated as the percentage of values that fall below a particular value in a set of data scores.\r\n",
        "* In statistics, a percentile is a score below which a given percentage of scores in its frequency distribution fall or a score at or below which a given percentage fall.\r\n",
        "*  For example, the 50th percentile (the median) is the score below which 50% (exclusive) or at or below which (inclusive) 50% of the scores in the distribution may be found.\r\n",
        "* np.percentile() Returns the q-th percentile(s) of the array elements."
      ]
    },
    {
      "cell_type": "code",
      "metadata": {
        "colab": {
          "base_uri": "https://localhost:8080/"
        },
        "id": "_xNWofHoURSs",
        "outputId": "afc5d028-f4a9-4e89-c3d2-1b01b9f2316f"
      },
      "source": [
        "print(\"\\nPercentile summary-\")\r\n",
        "print('\\n\\n10th Percentile of the column display_size = ',np.percentile(df['display_size'],10))\r\n",
        "print('50th Percentile(medain) of the display_size = ',np.percentile(df['display_size'],50))\r\n",
        "print('90th Percentile of the column display_size = ',np.percentile(df['display_size'],90))\r\n",
        "print('\\n\\n10th Percentile of the column price = ',np.percentile(df['price'],10))\r\n",
        "print('50th Percentile(medain) of the column price = ',np.percentile(df['price'],50))\r\n",
        "print('90th Percentile of the column price = ',np.percentile(df['price'],90))\r\n",
        "print('\\n\\n10th Percentile of the column discount_price = ',np.percentile(df['discount_price'],10))\r\n",
        "print('50th Percentile(medain) of the column discount_price = ',np.percentile(df['discount_price'],50))\r\n",
        "print('90th Percentile of the column discount_price = ',np.percentile(df['discount_price'],90))"
      ],
      "execution_count": null,
      "outputs": [
        {
          "output_type": "stream",
          "text": [
            "\n",
            "Percentile summary-\n",
            "\n",
            "\n",
            "10th Percentile of the column display_size =  13.3\n",
            "50th Percentile(medain) of the display_size =  14.0\n",
            "90th Percentile of the column display_size =  15.599999999999998\n",
            "\n",
            "\n",
            "10th Percentile of the column price =  1719.0\n",
            "50th Percentile(medain) of the column price =  3299.0\n",
            "90th Percentile of the column price =  6999.0\n",
            "\n",
            "\n",
            "10th Percentile of the column discount_price =  1499.0\n",
            "50th Percentile(medain) of the column discount_price =  3149.0\n",
            "90th Percentile of the column discount_price =  6910.999999999999\n"
          ],
          "name": "stdout"
        }
      ]
    },
    {
      "cell_type": "markdown",
      "metadata": {
        "id": "VVxMZE3gQqQP"
      },
      "source": [
        "**Quertiles**"
      ]
    },
    {
      "cell_type": "markdown",
      "metadata": {
        "id": "8gyRu6ePRvnd"
      },
      "source": [
        "*   In statistics, a quartile is a type of quantile which divides the number of data points into four parts, or quarters, of more-or-less equal size. \r\n",
        "* The data must be ordered from smallest to largest to compute quartiles\r\n",
        "*  The first quartile (Q1) is defined as the middle number between the smallest number (minimum) and the median of the data set. It is also known as the lower or 25th empirical quartile, as 25% of the data is below this point.\r\n",
        "* The second quartile (Q2) is the median of a data set; thus 50% of the data lies below this point.\r\n",
        "* The third quartile (Q3) is the middle value between the median and the highest value (maximum) of the data set. It is known as the upper or 75th empirical quartile, as 75% of the data lies below this point.\r\n",
        "* df.quantile() Returns values at the given quantile over requested axis.\r\n",
        "\r\n"
      ]
    },
    {
      "cell_type": "code",
      "metadata": {
        "colab": {
          "base_uri": "https://localhost:8080/"
        },
        "id": "bvkz4RhnPrqv",
        "outputId": "56648172-55db-4555-b503-de600ed93027"
      },
      "source": [
        "print(\"\\nQuertile summary-\")\r\n",
        "print(\"\\n25% quertile (Lower quertile) of numeric columns-\\n \",df.quantile(q=0.25))\r\n",
        "print(\"\\n50% quertile (Middle quertile)of numeric columns-\\n\",df.quantile(q=0.5))\r\n",
        "print(\"\\n75% quertile (Upper quertile) of numeric columns-\\n\",df.quantile(q=0.75))"
      ],
      "execution_count": null,
      "outputs": [
        {
          "output_type": "stream",
          "text": [
            "\n",
            "Quertile summary-\n",
            "\n",
            "25% quertile (Lower quertile) of numeric columns-\n",
            "  display_size        13.3\n",
            "discount_price    2099.0\n",
            "price             2249.0\n",
            "Name: 0.25, dtype: float64\n",
            "\n",
            "50% quertile (Middle quertile)of numeric columns-\n",
            " display_size        14.0\n",
            "discount_price    3149.0\n",
            "price             3299.0\n",
            "Name: 0.5, dtype: float64\n",
            "\n",
            "75% quertile (Upper quertile) of numeric columns-\n",
            " display_size        15.6\n",
            "discount_price    4939.0\n",
            "price             5649.0\n",
            "Name: 0.75, dtype: float64\n"
          ],
          "name": "stdout"
        }
      ]
    },
    {
      "cell_type": "markdown",
      "metadata": {
        "id": "oeY1FW5hTFDY"
      },
      "source": [
        "**Boxplot**"
      ]
    },
    {
      "cell_type": "markdown",
      "metadata": {
        "id": "kpnHxTo-bKEA"
      },
      "source": [
        "\r\n",
        "\r\n",
        "* A boxplot is a standardized way of displaying the distribution of data based on a five number summary (“minimum”, first quartile (Q1), median, third quartile (Q3), and “maximum”).\r\n",
        "* Diffrent parts of boxplot are-\r\n",
        "*   median (Q2/50th Percentile): the middle value of the dataset.\r\n",
        "* first quartile (Q1/25th Percentile): the middle number between the smallest number (not the “minimum”) and the median of the dataset.\r\n",
        "* third quartile (Q3/75th Percentile): the middle value between the median and the highest value (not the “maximum”) of the dataset.\r\n",
        "* interquartile range (IQR): 25th to the 75th percentile.\r\n",
        "* “maximum”: Q3 + 1.5*IQR\r\n",
        "* “minimum”: Q1 -1.5*IQR\r\n",
        "* whiskers ( the two lines outside the box that extend to the highest and lowest observations.)\r\n",
        "* outliers (shown as black diamond)\r\n",
        "*  sns.boxplot() Draws a box plot to show distributions with respect to categories.\r\n",
        "* The below boxplot shows us that there are some outliers in discount_price and price columns\r\n",
        "\r\n",
        "\r\n",
        "\r\n"
      ]
    },
    {
      "cell_type": "code",
      "metadata": {
        "colab": {
          "base_uri": "https://localhost:8080/",
          "height": 337
        },
        "id": "1UGLBiR3SVzQ",
        "outputId": "f52906e2-6d99-4a04-d9cc-24240e9ab7ae"
      },
      "source": [
        "print(\"Boxplot for all numeric columns-\\n\\n\")\r\n",
        "sns.boxplot(data=df)"
      ],
      "execution_count": null,
      "outputs": [
        {
          "output_type": "stream",
          "text": [
            "Boxplot for all numeric columns-\n",
            "\n",
            "\n"
          ],
          "name": "stdout"
        },
        {
          "output_type": "execute_result",
          "data": {
            "text/plain": [
              "<matplotlib.axes._subplots.AxesSubplot at 0x7fdc313a6c10>"
            ]
          },
          "metadata": {
            "tags": []
          },
          "execution_count": 11
        },
        {
          "output_type": "display_data",
          "data": {
            "image/png": "[encoded data removed]",
            "text/plain": [
              "<Figure size 432x288 with 1 Axes>"
            ]
          },
          "metadata": {
            "tags": [],
            "needs_background": "light"
          }
        }
      ]
    },
    {
      "cell_type": "code",
      "metadata": {
        "colab": {
          "base_uri": "https://localhost:8080/",
          "height": 335
        },
        "id": "29PGbpQ6T4B0",
        "outputId": "096f261b-c630-4c60-8f6d-db20d9e003ac"
      },
      "source": [
        "print(\"Boxplot for column display_size-\\n\\n\")\r\n",
        "sns.boxplot(data=df['display_size'])"
      ],
      "execution_count": null,
      "outputs": [
        {
          "output_type": "stream",
          "text": [
            "Boxplot for column display_size-\n",
            "\n",
            "\n"
          ],
          "name": "stdout"
        },
        {
          "output_type": "execute_result",
          "data": {
            "text/plain": [
              "<matplotlib.axes._subplots.AxesSubplot at 0x7fdc30e46250>"
            ]
          },
          "metadata": {
            "tags": []
          },
          "execution_count": 12
        },
        {
          "output_type": "display_data",
          "data": {
            "image/png": "[encoded data removed]",
            "text/plain": [
              "<Figure size 432x288 with 1 Axes>"
            ]
          },
          "metadata": {
            "tags": [],
            "needs_background": "light"
          }
        }
      ]
    }
  ]
}